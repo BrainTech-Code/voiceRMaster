{
 "cells": [
  {
   "cell_type": "code",
   "execution_count": 167,
   "metadata": {},
   "outputs": [
    {
     "name": "stdout",
     "output_type": "stream",
     "text": [
      "Requirement already satisfied: librosa in c:\\tools\\anaconda3\\envs\\voicer\\lib\\site-packages (0.10.0.post2)\n",
      "Requirement already satisfied: audioread>=2.1.9 in c:\\tools\\anaconda3\\envs\\voicer\\lib\\site-packages (from librosa) (3.0.0)\n",
      "Requirement already satisfied: numpy!=1.22.0,!=1.22.1,!=1.22.2,>=1.20.3 in c:\\tools\\anaconda3\\envs\\voicer\\lib\\site-packages (from librosa) (1.23.5)\n",
      "Requirement already satisfied: scipy>=1.2.0 in c:\\tools\\anaconda3\\envs\\voicer\\lib\\site-packages (from librosa) (1.11.1)\n",
      "Requirement already satisfied: scikit-learn>=0.20.0 in c:\\tools\\anaconda3\\envs\\voicer\\lib\\site-packages (from librosa) (1.3.0)\n",
      "Requirement already satisfied: joblib>=0.14 in c:\\tools\\anaconda3\\envs\\voicer\\lib\\site-packages (from librosa) (1.3.1)\n",
      "Requirement already satisfied: decorator>=4.3.0 in c:\\tools\\anaconda3\\envs\\voicer\\lib\\site-packages (from librosa) (5.1.1)\n",
      "Requirement already satisfied: numba>=0.51.0 in c:\\tools\\anaconda3\\envs\\voicer\\lib\\site-packages (from librosa) (0.57.1)\n",
      "Requirement already satisfied: soundfile>=0.12.1 in c:\\tools\\anaconda3\\envs\\voicer\\lib\\site-packages (from librosa) (0.12.1)\n",
      "Requirement already satisfied: pooch<1.7,>=1.0 in c:\\tools\\anaconda3\\envs\\voicer\\lib\\site-packages (from librosa) (1.6.0)\n",
      "Requirement already satisfied: soxr>=0.3.2 in c:\\tools\\anaconda3\\envs\\voicer\\lib\\site-packages (from librosa) (0.3.5)\n",
      "Requirement already satisfied: typing-extensions>=4.1.1 in c:\\tools\\anaconda3\\envs\\voicer\\lib\\site-packages (from librosa) (4.7.1)\n",
      "Requirement already satisfied: lazy-loader>=0.1 in c:\\tools\\anaconda3\\envs\\voicer\\lib\\site-packages (from librosa) (0.3)\n",
      "Requirement already satisfied: msgpack>=1.0 in c:\\tools\\anaconda3\\envs\\voicer\\lib\\site-packages (from librosa) (1.0.5)\n",
      "Requirement already satisfied: llvmlite<0.41,>=0.40.0dev0 in c:\\tools\\anaconda3\\envs\\voicer\\lib\\site-packages (from numba>=0.51.0->librosa) (0.40.1)\n",
      "Requirement already satisfied: appdirs>=1.3.0 in c:\\tools\\anaconda3\\envs\\voicer\\lib\\site-packages (from pooch<1.7,>=1.0->librosa) (1.4.4)\n",
      "Requirement already satisfied: packaging>=20.0 in c:\\tools\\anaconda3\\envs\\voicer\\lib\\site-packages (from pooch<1.7,>=1.0->librosa) (23.1)\n",
      "Requirement already satisfied: requests>=2.19.0 in c:\\tools\\anaconda3\\envs\\voicer\\lib\\site-packages (from pooch<1.7,>=1.0->librosa) (2.31.0)\n",
      "Requirement already satisfied: threadpoolctl>=2.0.0 in c:\\tools\\anaconda3\\envs\\voicer\\lib\\site-packages (from scikit-learn>=0.20.0->librosa) (3.1.0)\n",
      "Requirement already satisfied: cffi>=1.0 in c:\\tools\\anaconda3\\envs\\voicer\\lib\\site-packages (from soundfile>=0.12.1->librosa) (1.15.1)\n",
      "Requirement already satisfied: pycparser in c:\\tools\\anaconda3\\envs\\voicer\\lib\\site-packages (from cffi>=1.0->soundfile>=0.12.1->librosa) (2.21)\n",
      "Requirement already satisfied: charset-normalizer<4,>=2 in c:\\tools\\anaconda3\\envs\\voicer\\lib\\site-packages (from requests>=2.19.0->pooch<1.7,>=1.0->librosa) (3.1.0)\n",
      "Requirement already satisfied: idna<4,>=2.5 in c:\\tools\\anaconda3\\envs\\voicer\\lib\\site-packages (from requests>=2.19.0->pooch<1.7,>=1.0->librosa) (3.4)\n",
      "Requirement already satisfied: urllib3<3,>=1.21.1 in c:\\tools\\anaconda3\\envs\\voicer\\lib\\site-packages (from requests>=2.19.0->pooch<1.7,>=1.0->librosa) (1.26.16)\n",
      "Requirement already satisfied: certifi>=2017.4.17 in c:\\tools\\anaconda3\\envs\\voicer\\lib\\site-packages (from requests>=2.19.0->pooch<1.7,>=1.0->librosa) (2023.5.7)\n"
     ]
    }
   ],
   "source": [
    "import tensorflow as tf\n",
    "\n",
    "!pip install librosa"
   ]
  },
  {
   "cell_type": "code",
   "execution_count": 168,
   "metadata": {},
   "outputs": [],
   "source": [
    "import numpy as np"
   ]
  },
  {
   "cell_type": "code",
   "execution_count": 169,
   "metadata": {},
   "outputs": [
    {
     "data": {
      "text/plain": [
       "TensorShape([1, 124, 129, 1])"
      ]
     },
     "execution_count": 169,
     "metadata": {},
     "output_type": "execute_result"
    }
   ],
   "source": [
    "file=\"data/mini_speech_commands/down/ffd2ba2f_nohash_4.wav\"\n",
    "record=\"enregistrement_audio.wav\"\n",
    "def process_audio(record):\n",
    "     audio_bin=tf.io.read_file(record)\n",
    "     audio,sample_rate=tf.audio.decode_wav(audio_bin)\n",
    "     waveform=tf.squeeze(audio)\n",
    "     waveform=waveform[:16000]\n",
    "     zero_padding = tf.zeros(\n",
    "      [16000] - tf.shape(waveform),\n",
    "      dtype=tf.float32)\n",
    "     waveform = tf.cast(waveform, dtype=tf.float32)\n",
    "     \n",
    "     spectrogram=tf.signal.stft(signals=waveform,frame_length=255,frame_step=128)\n",
    "     spectrogram = tf.abs(spectrogram)\n",
    "     spectrogram=spectrogram[..., tf.newaxis]\n",
    "     spectrogram=tf.expand_dims(spectrogram,axis=0)\n",
    "     return spectrogram\n",
    "\n",
    "\n",
    "spectrogram=process_audio(file)\n",
    "\n",
    "spectrogram.shape"
   ]
  },
  {
   "cell_type": "code",
   "execution_count": 170,
   "metadata": {},
   "outputs": [
    {
     "data": {
      "text/plain": [
       "(None, 124, 129, 1)"
      ]
     },
     "execution_count": 170,
     "metadata": {},
     "output_type": "execute_result"
    }
   ],
   "source": [
    "model_path = \"voice3.h5\"\n",
    "# Charger le modèle\n",
    "model = tf.keras.models.load_model(model_path)\n",
    "model.input_shape"
   ]
  },
  {
   "cell_type": "code",
   "execution_count": 171,
   "metadata": {},
   "outputs": [],
   "source": [
    "def make_prediction(audio_file):\n",
    "     audio_data=process_audio(audio_file)\n",
    "     prediction = model.predict(audio_data)\n",
    "     # Trouver l'indice de la probabilité maximale\n",
    "     predicted_index = np.argmax(prediction, axis=1)\n",
    "     predicted_index=predicted_index[0]\n",
    "     # Trouver la classe prédite en utilisant l'indice\n",
    "     predicted_class = labels[predicted_index]\n",
    "     predicted_class\n",
    "     return predicted_class"
   ]
  },
  {
   "cell_type": "code",
   "execution_count": 172,
   "metadata": {},
   "outputs": [
    {
     "name": "stdout",
     "output_type": "stream",
     "text": [
      "1/1 [==============================] - 0s 214ms/step\n"
     ]
    },
    {
     "data": {
      "text/plain": [
       "'go'"
      ]
     },
     "execution_count": 172,
     "metadata": {},
     "output_type": "execute_result"
    }
   ],
   "source": [
    "pred=make_prediction(file)\n",
    "pred"
   ]
  },
  {
   "cell_type": "code",
   "execution_count": 173,
   "metadata": {},
   "outputs": [
    {
     "ename": "TypeError",
     "evalue": "string indices must be integers, not 'tuple'",
     "output_type": "error",
     "traceback": [
      "\u001b[1;31m---------------------------------------------------------------------------\u001b[0m",
      "\u001b[1;31mTypeError\u001b[0m                                 Traceback (most recent call last)",
      "Cell \u001b[1;32mIn[173], line 1\u001b[0m\n\u001b[1;32m----> 1\u001b[0m pred[\u001b[39m0\u001b[39;49m,\u001b[39m1\u001b[39;49m]\n\u001b[0;32m      3\u001b[0m labels \u001b[39m=\u001b[39m [\u001b[39m'\u001b[39m\u001b[39mdown\u001b[39m\u001b[39m'\u001b[39m, \u001b[39m'\u001b[39m\u001b[39mgo\u001b[39m\u001b[39m'\u001b[39m, \u001b[39m'\u001b[39m\u001b[39mleft\u001b[39m\u001b[39m'\u001b[39m, \u001b[39m'\u001b[39m\u001b[39mno\u001b[39m\u001b[39m'\u001b[39m, \u001b[39m'\u001b[39m\u001b[39mright\u001b[39m\u001b[39m'\u001b[39m, \u001b[39m'\u001b[39m\u001b[39mstop\u001b[39m\u001b[39m'\u001b[39m, \u001b[39m'\u001b[39m\u001b[39mup\u001b[39m\u001b[39m'\u001b[39m, \u001b[39m'\u001b[39m\u001b[39myes\u001b[39m\u001b[39m'\u001b[39m]\n\u001b[0;32m      5\u001b[0m \u001b[39m# Trouver l'indice de la probabilité maximale\u001b[39;00m\n",
      "\u001b[1;31mTypeError\u001b[0m: string indices must be integers, not 'tuple'"
     ]
    }
   ],
   "source": [
    "pred[0,1]\n",
    "\n",
    "labels = ['down', 'go', 'left', 'no', 'right', 'stop', 'up', 'yes']\n",
    "\n",
    "# Trouver l'indice de la probabilité maximale\n",
    "predicted_index = np.argmax(pred, axis=1)\n",
    "predicted_index=predicted_index[0]\n",
    "# Trouver la classe prédite en utilisant l'indice\n",
    "predicted_class = labels[predicted_index]\n",
    "predicted_class"
   ]
  },
  {
   "cell_type": "code",
   "execution_count": null,
   "metadata": {},
   "outputs": [
    {
     "name": "stdout",
     "output_type": "stream",
     "text": [
      "Collecting pyaudio\n",
      "  Using cached PyAudio-0.2.13-cp311-cp311-win_amd64.whl (164 kB)\n",
      "Installing collected packages: pyaudio\n",
      "Successfully installed pyaudio-0.2.13\n"
     ]
    }
   ],
   "source": [
    "!pip install pyaudio"
   ]
  },
  {
   "cell_type": "code",
   "execution_count": null,
   "metadata": {},
   "outputs": [],
   "source": [
    "\n",
    "import numpy as np\n",
    "from scipy.io import wavfile\n",
    "import tensorflow as tf\n",
    "from tensorflow import keras\n",
    "import pyaudio\n",
    "import wave\n",
    "import os\n",
    "import datetime\n",
    "\n",
    "def record_audio(duration=5, sample_rate=44100, channels=1):\n",
    "    format = pyaudio.paInt16\n",
    "    audio = pyaudio.PyAudio()\n",
    "    stream = audio.open(\n",
    "        format=format,\n",
    "        channels=channels,\n",
    "        rate=sample_rate,\n",
    "        input=True,\n",
    "        frames_per_buffer=1024,\n",
    "    )\n",
    "\n",
    "    print(\"Enregistrement audio en cours...\")\n",
    "    frames = []\n",
    "    for i in range(0, int(sample_rate / 1024 * duration)):\n",
    "        data = stream.read(1024)\n",
    "        frames.append(data)\n",
    "\n",
    "    print(\"Enregistrement audio terminé.\")\n",
    "\n",
    "    # Fermeture du flux audio\n",
    "    stream.stop_stream()\n",
    "    stream.close()\n",
    "    audio.terminate()\n",
    "\n",
    "    # Création du nom de fichier avec l'horodatage\n",
    "    timestamp = datetime.datetime.now().strftime(\"%Y-%m-%d_%H-%M-%S\")\n",
    "    output_file = os.path.join(\"recording\", f\"audio_{timestamp}.wav\")\n",
    "\n",
    "    # Sauvegarde de l'audio en tant que fichier WAV\n",
    "    wave_file = wave.open(output_file, \"wb\")\n",
    "    wave_file.setnchannels(channels)\n",
    "    wave_file.setsampwidth(audio.get_sample_size(format))\n",
    "    wave_file.setframerate(sample_rate)\n",
    "    wave_file.writeframes(b\"\".join(frames))\n",
    "    wave_file.close()\n",
    "\n",
    "    print(\"Audio enregistré avec succès :\", output_file)\n",
    "    return output_file\n"
   ]
  },
  {
   "cell_type": "code",
   "execution_count": 185,
   "metadata": {},
   "outputs": [
    {
     "name": "stdout",
     "output_type": "stream",
     "text": [
      "Requirement already satisfied: Pillow in c:\\tools\\anaconda3\\envs\\voicer\\lib\\site-packages (10.0.0)\n"
     ]
    }
   ],
   "source": [
    "!pip install Pillow"
   ]
  },
  {
   "cell_type": "code",
   "execution_count": 196,
   "metadata": {},
   "outputs": [
    {
     "name": "stdout",
     "output_type": "stream",
     "text": [
      "Lecture terminée.\n"
     ]
    }
   ],
   "source": [
    "import pyaudio\n",
    "import wave\n",
    "\n",
    "def play_audio(file_path):\n",
    "    chunk = 1024  # Nombre d'échantillons lus à chaque fois\n",
    "    \n",
    "    # Ouvrir le fichier audio\n",
    "    wf = wave.open(file_path, 'rb')\n",
    "\n",
    "    # Initialiser PyAudio\n",
    "    p = pyaudio.PyAudio()\n",
    "\n",
    "    # Ouvrir le flux de lecture\n",
    "    stream = p.open(format=p.get_format_from_width(wf.getsampwidth()),\n",
    "                    channels=wf.getnchannels(),\n",
    "                    rate=wf.getframerate(),\n",
    "                    output=True)\n",
    "\n",
    "    # Lire les données du fichier audio par morceaux et les envoyer au flux de sortie\n",
    "    data = wf.readframes(chunk)\n",
    "    while data:\n",
    "        stream.write(data)\n",
    "        data = wf.readframes(chunk)\n",
    "\n",
    "    # Arrêter le flux de sortie et fermer le fichier audio\n",
    "    stream.stop_stream()\n",
    "    stream.close()\n",
    "    p.terminate()\n",
    "\n",
    "    print(\"Lecture terminée.\")\n",
    "\n",
    "# Utilisation de la fonction play()\n",
    "fichier_audio = \"recording/audio_2023-07-05_21-22-59.wav\"\n",
    "play_audio(fichier_audio)\n"
   ]
  },
  {
   "cell_type": "code",
   "execution_count": 198,
   "metadata": {},
   "outputs": [
    {
     "name": "stdout",
     "output_type": "stream",
     "text": [
      "Enregistrement audio en cours...\n",
      "Enregistrement audio terminé.\n",
      "Audio enregistré avec succès : recording\\audio_2023-07-06_10-04-16.wav\n",
      "recording\\audio_2023-07-06_10-04-16.wav\n",
      "Lecture terminée.\n",
      "Lecture terminée.\n",
      "Enregistrement audio en cours...\n",
      "Enregistrement audio terminé.\n",
      "Audio enregistré avec succès : recording\\audio_2023-07-06_10-04-43.wav\n",
      "recording\\audio_2023-07-06_10-04-43.wav\n",
      "Lecture terminée.\n",
      "Enregistrement audio en cours...\n",
      "Enregistrement audio terminé.\n",
      "Audio enregistré avec succès : recording\\audio_2023-07-06_10-04-57.wav\n",
      "recording\\audio_2023-07-06_10-04-57.wav\n",
      "Enregistrement audio en cours...\n",
      "Enregistrement audio terminé.\n",
      "Audio enregistré avec succès : recording\\audio_2023-07-06_10-05-02.wav\n",
      "recording\\audio_2023-07-06_10-05-02.wav\n",
      "Enregistrement audio en cours...\n",
      "Enregistrement audio terminé.\n",
      "Audio enregistré avec succès : recording\\audio_2023-07-06_10-58-24.wav\n",
      "recording\\audio_2023-07-06_10-58-24.wav\n",
      "Lecture terminée.\n",
      "Lecture terminée.\n",
      "Lecture terminée.\n",
      "Lecture terminée.\n",
      "Lecture terminée.\n",
      "1/1 [==============================] - 0s 59ms/step\n"
     ]
    }
   ],
   "source": [
    "import tkinter as tk\n",
    "from PIL import ImageTk, Image\n",
    "\n",
    "# Création de la fenêtre principale\n",
    "window = tk.Tk()\n",
    "window.title(\"Logiciel de Reconnaissance Vocal\")\n",
    "window.geometry(\"600x600\")\n",
    "\n",
    "recording_audio=''\n",
    "def button_click():  \n",
    "    label.config(text=\"Start recording...\")\n",
    "    global recording_audio\n",
    "    recording_audio=record_audio(duration=5)\n",
    "    label.config(text=\"succes recording\")\n",
    "    print(recording_audio)\n",
    "    \n",
    "\n",
    "def play():  \n",
    "     label.config(text=\"stat playing\")  \n",
    "     play_audio(recording_audio)\n",
    "     \n",
    "     \n",
    "def predicted():\n",
    "    pred=make_prediction(recording_audio)\n",
    "    label_result.config(text=\"vous avez dit:\"+pred)\n",
    "\n",
    "\n",
    "\n",
    "\n",
    "\n",
    "\n",
    "button = tk.Button(window, \n",
    "                    text=\"enregistrer audio\",\n",
    "                    command=button_click,                  \n",
    "                    padx=10, pady=10)\n",
    "buton_play=tk.Button(window,\n",
    "                     text='Play',\n",
    "                     command=play,\n",
    "                     padx=10, pady=10)\n",
    "button_predict=tk.Button(window,\n",
    "                        text='Pred',  \n",
    "                        command=predicted,                    \n",
    "                        padx=10, pady=10)\n",
    "label_result=tk.Label(window,\n",
    "                     text='resultat de prediction:',\n",
    "                     padx=20, pady=20)\n",
    "\n",
    "label = tk.Label(window, text=\"Bienvenue sur VoiceR\",padx=30,pady=30)\n",
    "\n",
    "label.grid(row=0,column=0,)\n",
    "label_result.grid(row=2)\n",
    "\n",
    "buton_play.grid(row=6, column=4)\n",
    "button.grid(row=6, column=3)\n",
    "button_predict.grid(row=6,column=5)\n",
    "\n",
    "window.grid_rowconfigure(0, minsize=50)\n",
    "window.grid_columnconfigure(0, minsize=50)\n",
    "\n",
    "\n",
    "# Lancement de la boucle principale\n",
    "window.mainloop()\n",
    "\n"
   ]
  },
  {
   "cell_type": "code",
   "execution_count": null,
   "metadata": {},
   "outputs": [],
   "source": []
  }
 ],
 "metadata": {
  "kernelspec": {
   "display_name": "voiceR",
   "language": "python",
   "name": "python3"
  },
  "language_info": {
   "codemirror_mode": {
    "name": "ipython",
    "version": 3
   },
   "file_extension": ".py",
   "mimetype": "text/x-python",
   "name": "python",
   "nbconvert_exporter": "python",
   "pygments_lexer": "ipython3",
   "version": "3.11.3"
  },
  "orig_nbformat": 4
 },
 "nbformat": 4,
 "nbformat_minor": 2
}
