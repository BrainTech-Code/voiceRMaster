{
 "cells": [
  {
   "cell_type": "code",
   "execution_count": 3,
   "metadata": {},
   "outputs": [],
   "source": [
    "import os\n",
    "import pathlib\n",
    "import numpy as np\n",
    "import seaborn as sns\n",
    "import tensorflow as tf\n",
    "\n",
    "from tensorflow.keras import layers,models\n",
    "\n",
    "from IPython import display\n",
    "\n",
    "# Set the seed value for experiment reproducibility.\n",
    "seed = 42\n",
    "tf.random.set_seed(seed)\n",
    "np.random.seed(seed)\n",
    "DATASET_PATH = 'data/mini_speech_commands'"
   ]
  },
  {
   "attachments": {},
   "cell_type": "markdown",
   "metadata": {},
   "source": [
    "#Start Data process "
   ]
  },
  {
   "cell_type": "code",
   "execution_count": 6,
   "metadata": {},
   "outputs": [
    {
     "data": {
      "text/plain": [
       "['down', 'go', 'left', 'no', 'right', 'stop', 'up', 'yes']"
      ]
     },
     "execution_count": 6,
     "metadata": {},
     "output_type": "execute_result"
    }
   ],
   "source": [
    "\n",
    "def get_labels(directory):\n",
    "    labels = []\n",
    "    for label in os.listdir(directory):\n",
    "        if os.path.isdir(os.path.join(directory, label)):\n",
    "            labels.append(label)\n",
    "    return labels\n",
    "\n",
    "labels=get_labels(DATASET_PATH)\n",
    "labels"
   ]
  },
  {
   "cell_type": "code",
   "execution_count": 4,
   "metadata": {},
   "outputs": [
    {
     "ename": "NameError",
     "evalue": "name 'input_shape' is not defined",
     "output_type": "error",
     "traceback": [
      "\u001b[1;31m---------------------------------------------------------------------------\u001b[0m",
      "\u001b[1;31mNameError\u001b[0m                                 Traceback (most recent call last)",
      "Cell \u001b[1;32mIn[4], line 2\u001b[0m\n\u001b[0;32m      1\u001b[0m model \u001b[39m=\u001b[39m models\u001b[39m.\u001b[39mSequential([\n\u001b[1;32m----> 2\u001b[0m     layers\u001b[39m.\u001b[39mInput(shape\u001b[39m=\u001b[39minput_shape),\n\u001b[0;32m      3\u001b[0m     \u001b[39m# Downsample the input.\u001b[39;00m\n\u001b[0;32m      4\u001b[0m     layers\u001b[39m.\u001b[39mResizing(\u001b[39m32\u001b[39m, \u001b[39m32\u001b[39m),\n\u001b[0;32m      5\u001b[0m     \u001b[39m# Normalize.\u001b[39;00m\n\u001b[0;32m      6\u001b[0m     norm_layer,\n\u001b[0;32m      7\u001b[0m     layers\u001b[39m.\u001b[39mConv2D(\u001b[39m32\u001b[39m, \u001b[39m3\u001b[39m, activation\u001b[39m=\u001b[39m\u001b[39m'\u001b[39m\u001b[39mrelu\u001b[39m\u001b[39m'\u001b[39m),\n\u001b[0;32m      8\u001b[0m     layers\u001b[39m.\u001b[39mConv2D(\u001b[39m64\u001b[39m, \u001b[39m3\u001b[39m, activation\u001b[39m=\u001b[39m\u001b[39m'\u001b[39m\u001b[39mrelu\u001b[39m\u001b[39m'\u001b[39m),\n\u001b[0;32m      9\u001b[0m     layers\u001b[39m.\u001b[39mMaxPooling2D(),\n\u001b[0;32m     10\u001b[0m     layers\u001b[39m.\u001b[39mDropout(\u001b[39m0.25\u001b[39m),\n\u001b[0;32m     11\u001b[0m     layers\u001b[39m.\u001b[39mFlatten(),\n\u001b[0;32m     12\u001b[0m     layers\u001b[39m.\u001b[39mDense(\u001b[39m128\u001b[39m, activation\u001b[39m=\u001b[39m\u001b[39m'\u001b[39m\u001b[39mrelu\u001b[39m\u001b[39m'\u001b[39m),\n\u001b[0;32m     13\u001b[0m     layers\u001b[39m.\u001b[39mDropout(\u001b[39m0.5\u001b[39m),\n\u001b[0;32m     14\u001b[0m     layers\u001b[39m.\u001b[39mDense(num_labels),\n\u001b[0;32m     15\u001b[0m     layers\u001b[39m.\u001b[39mDense(\u001b[39m8\u001b[39m, activation\u001b[39m=\u001b[39m\u001b[39m'\u001b[39m\u001b[39msoftmax\u001b[39m\u001b[39m'\u001b[39m)\n\u001b[0;32m     16\u001b[0m ])\n\u001b[0;32m     18\u001b[0m model\u001b[39m.\u001b[39msummary()\n",
      "\u001b[1;31mNameError\u001b[0m: name 'input_shape' is not defined"
     ]
    }
   ],
   "source": [
    "\n",
    "input_shape=()\n",
    "model = models.Sequential([\n",
    "    layers.Input(shape=input_shape),\n",
    "    # Downsample the input.\n",
    "    layers.Resizing(32, 32),\n",
    "    # Normalize.\n",
    "    norm_layer,\n",
    "    layers.Conv2D(32, 3, activation='relu'),\n",
    "    layers.Conv2D(64, 3, activation='relu'),\n",
    "    layers.MaxPooling2D(),\n",
    "    layers.Dropout(0.25),\n",
    "    layers.Flatten(),\n",
    "    layers.Dense(128, activation='relu'),\n",
    "    layers.Dropout(0.5),\n",
    "    layers.Dense(num_labels),\n",
    "    layers.Dense(8, activation='softmax')\n",
    "])\n",
    "\n",
    "model.summary()"
   ]
  },
  {
   "cell_type": "code",
   "execution_count": 7,
   "metadata": {},
   "outputs": [
    {
     "name": "stdout",
     "output_type": "stream",
     "text": [
      "Collecting cx_Freeze\n",
      "  Downloading cx_Freeze-6.15.2-cp311-cp311-win_amd64.whl (403 kB)\n",
      "     ------------------------------------ 403.7/403.7 kB 344.8 kB/s eta 0:00:00\n",
      "Requirement already satisfied: setuptools<69,>=62.6 in c:\\tools\\anaconda3\\envs\\voicer\\lib\\site-packages (from cx_Freeze) (67.8.0)\n",
      "Collecting cx-Logging>=3.1 (from cx_Freeze)\n",
      "  Downloading cx_Logging-3.1.0-cp311-cp311-win_amd64.whl (26 kB)\n",
      "Collecting lief>=0.12.0 (from cx_Freeze)\n",
      "  Downloading lief-0.13.2-cp311-cp311-win_amd64.whl (3.1 MB)\n",
      "     ---------------------------------------- 3.1/3.1 MB 1.6 MB/s eta 0:00:00\n",
      "Installing collected packages: lief, cx-Logging, cx_Freeze\n",
      "Successfully installed cx-Logging-3.1.0 cx_Freeze-6.15.2 lief-0.13.2\n"
     ]
    }
   ],
   "source": [
    "!pip install cx_Freeze\n"
   ]
  }
 ],
 "metadata": {
  "kernelspec": {
   "display_name": "voiceR",
   "language": "python",
   "name": "python3"
  },
  "language_info": {
   "codemirror_mode": {
    "name": "ipython",
    "version": 3
   },
   "file_extension": ".py",
   "mimetype": "text/x-python",
   "name": "python",
   "nbconvert_exporter": "python",
   "pygments_lexer": "ipython3",
   "version": "3.11.3"
  },
  "orig_nbformat": 4
 },
 "nbformat": 4,
 "nbformat_minor": 2
}
